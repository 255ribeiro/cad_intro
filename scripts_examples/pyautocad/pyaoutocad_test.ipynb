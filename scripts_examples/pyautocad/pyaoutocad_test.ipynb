{
 "cells": [
  {
   "cell_type": "code",
   "execution_count": 1,
   "metadata": {},
   "outputs": [],
   "source": [
    "import pyautocad"
   ]
  },
  {
   "cell_type": "code",
   "execution_count": 2,
   "metadata": {},
   "outputs": [
    {
     "data": {
      "text/plain": [
       "<pyautocad.api.Autocad at 0x232d42bfe80>"
      ]
     },
     "execution_count": 2,
     "metadata": {},
     "output_type": "execute_result"
    }
   ],
   "source": [
    "from pyautocad import Autocad, APoint\n",
    "from pyautocad.contrib.tables import Table\n",
    "\n",
    "acad = Autocad()\n",
    "\n",
    "acad\n"
   ]
  },
  {
   "cell_type": "code",
   "execution_count": 3,
   "metadata": {},
   "outputs": [
    {
     "ename": "NameError",
     "evalue": "name 'acad' is not defined",
     "output_type": "error",
     "traceback": [
      "\u001b[1;31m---------------------------------------------------------------------------\u001b[0m",
      "\u001b[1;31mNameError\u001b[0m                                 Traceback (most recent call last)",
      "\u001b[1;32md:\\gitrepos\\intro_cad\\scripts_examples\\pyautocad\\pyaoutocad_test.ipynb Cell 3'\u001b[0m in \u001b[0;36m<cell line: 2>\u001b[1;34m()\u001b[0m\n\u001b[0;32m      <a href='vscode-notebook-cell:/d%3A/gitrepos/intro_cad/scripts_examples/pyautocad/pyaoutocad_test.ipynb#ch0000005?line=0'>1</a>\u001b[0m p1 \u001b[39m=\u001b[39m APoint(\u001b[39m0\u001b[39m, \u001b[39m0\u001b[39m)\n\u001b[0;32m      <a href='vscode-notebook-cell:/d%3A/gitrepos/intro_cad/scripts_examples/pyautocad/pyaoutocad_test.ipynb#ch0000005?line=1'>2</a>\u001b[0m \u001b[39mfor\u001b[39;00m i \u001b[39min\u001b[39;00m \u001b[39mrange\u001b[39m(\u001b[39m5\u001b[39m):\n\u001b[1;32m----> <a href='vscode-notebook-cell:/d%3A/gitrepos/intro_cad/scripts_examples/pyautocad/pyaoutocad_test.ipynb#ch0000005?line=2'>3</a>\u001b[0m     obj \u001b[39m=\u001b[39m acad\u001b[39m.\u001b[39mmodel\u001b[39m.\u001b[39mAddText(\u001b[39mu\u001b[39m\u001b[39m'\u001b[39m\u001b[39mHi \u001b[39m\u001b[39m%s\u001b[39;00m\u001b[39m!\u001b[39m\u001b[39m'\u001b[39m \u001b[39m%\u001b[39m i, p1, \u001b[39m2.5\u001b[39m)\n\u001b[0;32m      <a href='vscode-notebook-cell:/d%3A/gitrepos/intro_cad/scripts_examples/pyautocad/pyaoutocad_test.ipynb#ch0000005?line=3'>4</a>\u001b[0m     p1\u001b[39m.\u001b[39my \u001b[39m+\u001b[39m\u001b[39m=\u001b[39m \u001b[39m10\u001b[39m\n\u001b[0;32m      <a href='vscode-notebook-cell:/d%3A/gitrepos/intro_cad/scripts_examples/pyautocad/pyaoutocad_test.ipynb#ch0000005?line=5'>6</a>\u001b[0m table \u001b[39m=\u001b[39m Table()\n",
      "\u001b[1;31mNameError\u001b[0m: name 'acad' is not defined"
     ]
    }
   ],
   "source": [
    "p1 = APoint(0, 0)\n",
    "for i in range(5):\n",
    "    obj = acad.model.AddText(u'Hi %s!' % i, p1, 2.5)\n",
    "    p1.y += 10\n",
    "\n",
    "table = Table()\n",
    "for obj in acad.iter_objects('Text'):\n",
    "    x, y, z = obj.InsertionPoint\n",
    "    table.writerow([obj.TextString, x, y, z])\n",
    "table.save('data.xls', 'xls')\n",
    "\n",
    "data = Table.data_from_file('data.xls')\n"
   ]
  }
 ],
 "metadata": {
  "interpreter": {
   "hash": "4a2642c57ab765c8fd33174c5b42c0ce9ba214d04b95251060e5c7a6bc57abc3"
  },
  "kernelspec": {
   "display_name": "Python 3.9.6 ('.venv': poetry)",
   "language": "python",
   "name": "python3"
  },
  "language_info": {
   "codemirror_mode": {
    "name": "ipython",
    "version": 3
   },
   "file_extension": ".py",
   "mimetype": "text/x-python",
   "name": "python",
   "nbconvert_exporter": "python",
   "pygments_lexer": "ipython3",
   "version": "3.9.6"
  },
  "orig_nbformat": 4
 },
 "nbformat": 4,
 "nbformat_minor": 2
}
